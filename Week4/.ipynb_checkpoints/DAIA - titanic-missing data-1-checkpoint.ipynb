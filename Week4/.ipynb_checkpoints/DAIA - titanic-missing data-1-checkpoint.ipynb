{
 "cells": [
  {
   "cell_type": "markdown",
   "metadata": {},
   "source": [
    "*DAIA - Week 4 Assignment*\n",
    "\n",
    "# Missing data in the Titanic dataset"
   ]
  },
  {
   "cell_type": "markdown",
   "metadata": {},
   "source": [
    "## 1. Introduction"
   ]
  },
  {
   "cell_type": "markdown",
   "metadata": {},
   "source": [
    "In this titanic example we will focus on how to find, label and deal with missing data. Make sure you have studies the study materials in Canvas about the various types of missing data and how to handle these kind of missing data."
   ]
  },
  {
   "cell_type": "markdown",
   "metadata": {},
   "source": [
    "Each instance in the dataset has the following form:\n",
    "\n",
    "     \"1\",\"1st\",1,\"Allen, Miss Elisabeth Walton\",29.0000,\"Southampton\",\"St Louis, MO\",\"B-5\",\"24160 L221\",\"2\",\"female\"\n",
    "     \n",
    "Note that the raw data consists largely of strings. To apply machine learning algo's these strings have to be converted to numerical data first (at least the columns that are of interest)!"
   ]
  },
  {
   "cell_type": "markdown",
   "metadata": {},
   "source": [
    "## 2. Data collection"
   ]
  },
  {
   "cell_type": "markdown",
   "metadata": {},
   "source": [
    "Pandas is a Python module that works with the so-called dataframe concept (rows are observations, columns refer to the features). A dataframe is essentially a two-dimensional labeled data structure where\n",
    "each column represent a feature and each row represents an observation.\n",
    "\n",
    "More details, see: https://www.kaggle.com/c/titanic/details/getting-started-with-python-ii "
   ]
  },
  {
   "cell_type": "markdown",
   "metadata": {},
   "source": [
    "### 2.1. Load Dataset"
   ]
  },
  {
   "cell_type": "markdown",
   "metadata": {},
   "source": [
    "Download the Titanic dataset (csv file) from Canvas, read it with Pandas into a dataframe. Show the first 5 rows."
   ]
  },
  {
   "cell_type": "code",
   "execution_count": 1,
   "metadata": {},
   "outputs": [
    {
     "name": "stdout",
     "output_type": "stream",
     "text": [
      "numpy version: 1.20.3\n",
      "matplotlib version: 1.3.4\n"
     ]
    },
    {
     "data": {
      "text/html": [
       "<div>\n",
       "<style scoped>\n",
       "    .dataframe tbody tr th:only-of-type {\n",
       "        vertical-align: middle;\n",
       "    }\n",
       "\n",
       "    .dataframe tbody tr th {\n",
       "        vertical-align: top;\n",
       "    }\n",
       "\n",
       "    .dataframe thead th {\n",
       "        text-align: right;\n",
       "    }\n",
       "</style>\n",
       "<table border=\"1\" class=\"dataframe\">\n",
       "  <thead>\n",
       "    <tr style=\"text-align: right;\">\n",
       "      <th></th>\n",
       "      <th>passengers</th>\n",
       "      <th>pclass</th>\n",
       "      <th>survived</th>\n",
       "      <th>name</th>\n",
       "      <th>age</th>\n",
       "      <th>embarked</th>\n",
       "      <th>home/dest</th>\n",
       "      <th>room</th>\n",
       "      <th>ticket</th>\n",
       "      <th>boat</th>\n",
       "      <th>sex</th>\n",
       "    </tr>\n",
       "  </thead>\n",
       "  <tbody>\n",
       "    <tr>\n",
       "      <th>0</th>\n",
       "      <td>1</td>\n",
       "      <td>1st</td>\n",
       "      <td>1</td>\n",
       "      <td>Allen, Miss Elisabeth Walton</td>\n",
       "      <td>29.0000</td>\n",
       "      <td>Southampton</td>\n",
       "      <td>St Louis, MO</td>\n",
       "      <td>B-5</td>\n",
       "      <td>24160 L221</td>\n",
       "      <td>2</td>\n",
       "      <td>female</td>\n",
       "    </tr>\n",
       "    <tr>\n",
       "      <th>1</th>\n",
       "      <td>2</td>\n",
       "      <td>1st</td>\n",
       "      <td>0</td>\n",
       "      <td>Allison, Miss Helen Loraine</td>\n",
       "      <td>2.0000</td>\n",
       "      <td>Southampton</td>\n",
       "      <td>Montreal, PQ / Chesterville, ON</td>\n",
       "      <td>C26</td>\n",
       "      <td>NaN</td>\n",
       "      <td>NaN</td>\n",
       "      <td>female</td>\n",
       "    </tr>\n",
       "    <tr>\n",
       "      <th>2</th>\n",
       "      <td>3</td>\n",
       "      <td>1st</td>\n",
       "      <td>0</td>\n",
       "      <td>Allison, Mr Hudson Joshua Creighton</td>\n",
       "      <td>30.0000</td>\n",
       "      <td>Southampton</td>\n",
       "      <td>Montreal, PQ / Chesterville, ON</td>\n",
       "      <td>C26</td>\n",
       "      <td>NaN</td>\n",
       "      <td>-135</td>\n",
       "      <td>male</td>\n",
       "    </tr>\n",
       "    <tr>\n",
       "      <th>3</th>\n",
       "      <td>4</td>\n",
       "      <td>1st</td>\n",
       "      <td>0</td>\n",
       "      <td>Allison, Mrs Hudson J.C. (Bessie Waldo Daniels)</td>\n",
       "      <td>25.0000</td>\n",
       "      <td>Southampton</td>\n",
       "      <td>Montreal, PQ / Chesterville, ON</td>\n",
       "      <td>C26</td>\n",
       "      <td>NaN</td>\n",
       "      <td>NaN</td>\n",
       "      <td>female</td>\n",
       "    </tr>\n",
       "    <tr>\n",
       "      <th>4</th>\n",
       "      <td>5</td>\n",
       "      <td>1st</td>\n",
       "      <td>1</td>\n",
       "      <td>Allison, Master Hudson Trevor</td>\n",
       "      <td>0.9167</td>\n",
       "      <td>Southampton</td>\n",
       "      <td>Montreal, PQ / Chesterville, ON</td>\n",
       "      <td>C22</td>\n",
       "      <td>NaN</td>\n",
       "      <td>11</td>\n",
       "      <td>male</td>\n",
       "    </tr>\n",
       "  </tbody>\n",
       "</table>\n",
       "</div>"
      ],
      "text/plain": [
       "   passengers pclass  survived  \\\n",
       "0           1    1st         1   \n",
       "1           2    1st         0   \n",
       "2           3    1st         0   \n",
       "3           4    1st         0   \n",
       "4           5    1st         1   \n",
       "\n",
       "                                              name      age     embarked  \\\n",
       "0                     Allen, Miss Elisabeth Walton  29.0000  Southampton   \n",
       "1                      Allison, Miss Helen Loraine   2.0000  Southampton   \n",
       "2              Allison, Mr Hudson Joshua Creighton  30.0000  Southampton   \n",
       "3  Allison, Mrs Hudson J.C. (Bessie Waldo Daniels)  25.0000  Southampton   \n",
       "4                    Allison, Master Hudson Trevor   0.9167  Southampton   \n",
       "\n",
       "                         home/dest room      ticket  boat     sex  \n",
       "0                     St Louis, MO  B-5  24160 L221     2  female  \n",
       "1  Montreal, PQ / Chesterville, ON  C26         NaN   NaN  female  \n",
       "2  Montreal, PQ / Chesterville, ON  C26         NaN  -135    male  \n",
       "3  Montreal, PQ / Chesterville, ON  C26         NaN   NaN  female  \n",
       "4  Montreal, PQ / Chesterville, ON  C22         NaN    11    male  "
      ]
     },
     "execution_count": 1,
     "metadata": {},
     "output_type": "execute_result"
    }
   ],
   "source": [
    "import pandas as pd\n",
    "import numpy as np\n",
    "import seaborn as sns\n",
    "from matplotlib import pyplot as plt\n",
    "\n",
    "print('numpy version:', np.__version__)\n",
    "print('matplotlib version:', pd.__version__)\n",
    "\n",
    "## To get you started...\n",
    "df_titanic = pd.read_csv(\"Titanic.csv\")\n",
    "df_titanic.columns =['passengers','pclass','survived','name','age','embarked','home/dest','room','ticket','boat','sex']\n",
    "df_titanic.head(5)"
   ]
  },
  {
   "cell_type": "markdown",
   "metadata": {},
   "source": [
    "## 3.  Data understanding"
   ]
  },
  {
   "cell_type": "markdown",
   "metadata": {},
   "source": [
    "You can examine the datatypes and some general (statistical) information about the dataset. See if you can already see something odd or striking, which indicates missing data."
   ]
  },
  {
   "cell_type": "code",
   "execution_count": 2,
   "metadata": {},
   "outputs": [
    {
     "data": {
      "text/plain": [
       "passengers      int64\n",
       "pclass         object\n",
       "survived        int64\n",
       "name           object\n",
       "age           float64\n",
       "embarked       object\n",
       "home/dest      object\n",
       "room           object\n",
       "ticket         object\n",
       "boat           object\n",
       "sex            object\n",
       "dtype: object"
      ]
     },
     "execution_count": 2,
     "metadata": {},
     "output_type": "execute_result"
    }
   ],
   "source": [
    "df_titanic.dtypes\n",
    "\n",
    "## Why is it good to first check the datatypes, before examining the columns or values for missing data?\n",
    "\n",
    "## Your answer (and explanation):\n",
    "## We should check the data types so we can see which ones we will have to convert. For example if we want to use age \n",
    "## we will not have to convert it because it is already a float. However if we want to use embarked we will need \n",
    "## to convert it becuse it is an object."
   ]
  },
  {
   "cell_type": "markdown",
   "metadata": {},
   "source": [
    "Which columns contain missing values? You should find at least 3 (4 is better ;) ). "
   ]
  },
  {
   "cell_type": "code",
   "execution_count": 3,
   "metadata": {},
   "outputs": [
    {
     "name": "stdout",
     "output_type": "stream",
     "text": [
      "<class 'pandas.core.frame.DataFrame'>\n",
      "RangeIndex: 1313 entries, 0 to 1312\n",
      "Data columns (total 11 columns):\n",
      " #   Column      Non-Null Count  Dtype  \n",
      "---  ------      --------------  -----  \n",
      " 0   passengers  1313 non-null   int64  \n",
      " 1   pclass      1313 non-null   object \n",
      " 2   survived    1313 non-null   int64  \n",
      " 3   name        1313 non-null   object \n",
      " 4   age         633 non-null    float64\n",
      " 5   embarked    821 non-null    object \n",
      " 6   home/dest   754 non-null    object \n",
      " 7   room        77 non-null     object \n",
      " 8   ticket      69 non-null     object \n",
      " 9   boat        347 non-null    object \n",
      " 10  sex         1313 non-null   object \n",
      "dtypes: float64(1), int64(2), object(8)\n",
      "memory usage: 113.0+ KB\n"
     ]
    }
   ],
   "source": [
    "df_titanic.info()"
   ]
  },
  {
   "cell_type": "code",
   "execution_count": 4,
   "metadata": {},
   "outputs": [
    {
     "data": {
      "text/plain": [
       "Index(['age', 'embarked', 'home/dest', 'room', 'ticket', 'boat'], dtype='object')"
      ]
     },
     "execution_count": 4,
     "metadata": {},
     "output_type": "execute_result"
    }
   ],
   "source": [
    "## Your code and comments here...\n",
    "df_titanic.columns[df_titanic.isnull().any()]\n",
    "\n",
    "## We can see the columns that have null values there."
   ]
  },
  {
   "cell_type": "markdown",
   "metadata": {},
   "source": [
    "Next step is to examine and explain *why* these values are missing. Remember MCAR, MAR, M(C)NAR... Don't forget to use visualization (histograms might be useful) as well to investigate or explain this."
   ]
  },
  {
   "cell_type": "code",
   "execution_count": 5,
   "metadata": {},
   "outputs": [
    {
     "name": "stdout",
     "output_type": "stream",
     "text": [
      "passengers      0\n",
      "pclass          0\n",
      "survived        0\n",
      "name            0\n",
      "age            96\n",
      "embarked       10\n",
      "home/dest      33\n",
      "room          258\n",
      "ticket        277\n",
      "boat          110\n",
      "sex             0\n",
      "dtype: int64\n",
      "passengers      0\n",
      "pclass          0\n",
      "survived        0\n",
      "name            0\n",
      "age            68\n",
      "embarked        8\n",
      "home/dest      16\n",
      "room          267\n",
      "ticket        259\n",
      "boat          184\n",
      "sex             0\n",
      "dtype: int64\n",
      "passengers      0\n",
      "pclass          0\n",
      "survived        0\n",
      "name            0\n",
      "age           516\n",
      "embarked      474\n",
      "home/dest     510\n",
      "room          711\n",
      "ticket        708\n",
      "boat          672\n",
      "sex             0\n",
      "dtype: int64\n"
     ]
    }
   ],
   "source": [
    "## Your code and comments....\n",
    "\n",
    "class1 = df_titanic.loc[df_titanic['pclass'] == '1st']\n",
    "class2 = df_titanic.loc[df_titanic['pclass'] == '2nd']\n",
    "class3 = df_titanic.loc[df_titanic['pclass'] == '3rd']\n",
    "\n",
    "\n",
    "print(class1.isnull().sum())\n",
    "print(class2.isnull().sum())\n",
    "print(class3.isnull().sum())"
   ]
  },
  {
   "cell_type": "markdown",
   "metadata": {},
   "source": [
    "### Class 3 has much more missing values than the rest"
   ]
  },
  {
   "cell_type": "markdown",
   "metadata": {},
   "source": [
    "## 4. Data Preparation"
   ]
  },
  {
   "cell_type": "markdown",
   "metadata": {},
   "source": [
    "### 4.1. Deal with Missing Values"
   ]
  },
  {
   "cell_type": "markdown",
   "metadata": {},
   "source": [
    "You have found some (indications, clues for) missing data. Under 'Data Understanding' you have looked for reasons why and perhaps also found some relationships with other values or features. That helps you to 'label' the type of missing data. Now it's time to deal with the missing values. It could be a requirement of the  machine learning model that it needs a complete set of values for a feature. There are several options as you know. Deleting rows can reduce missing values, but it also reduces the total amount of data... Another way is to fill  it in with guesses. You will be introducing some noise into a model, but if you canmake reasonable guesses, some of them should be close to the historical truth (whatever it was...), and the overall predictive power of the model might still make a better model than before. "
   ]
  },
  {
   "cell_type": "markdown",
   "metadata": {},
   "source": [
    "#### Look at the features with missing data and explain and apply a suitable method to deal with these missing values..."
   ]
  },
  {
   "cell_type": "code",
   "execution_count": 6,
   "metadata": {},
   "outputs": [
    {
     "data": {
      "text/plain": [
       "<AxesSubplot:>"
      ]
     },
     "execution_count": 6,
     "metadata": {},
     "output_type": "execute_result"
    },
    {
     "data": {
      "image/png": "[encoded data removed]",
      "text/plain": [
       "<Figure size 432x288 with 1 Axes>"
      ]
     },
     "metadata": {
      "needs_background": "light"
     },
     "output_type": "display_data"
    }
   ],
   "source": [
    "sns.heatmap(df_titanic.isnull(), yticklabels = False, cbar = False, cmap = 'viridis')"
   ]
  },
  {
   "cell_type": "markdown",
   "metadata": {},
   "source": [
    "### We can see that we will need to deal with age, embarked, home,room,ticket, and boat. Lets start with the last 4. "
   ]
  },
  {
   "cell_type": "code",
   "execution_count": 7,
   "metadata": {},
   "outputs": [
    {
     "data": {
      "text/plain": [
       "home/dest\n",
       "?Havana, Cuba                          1\n",
       "Aberdeen / Portland, OR                2\n",
       "Albany, NY                             1\n",
       "Altdorf, Switzerland                   2\n",
       "Amenia, ND                             2\n",
       "                                      ..\n",
       "Worcester, England                     1\n",
       "Worcester, MA                          2\n",
       "Yoevil, England / Cottage Grove, OR    1\n",
       "Youngstown, OH                         5\n",
       "Zurich, Switzerland                    3\n",
       "Name: passengers, Length: 371, dtype: int64"
      ]
     },
     "execution_count": 7,
     "metadata": {},
     "output_type": "execute_result"
    }
   ],
   "source": [
    "df_titanic.groupby('home/dest')['passengers'].nunique()"
   ]
  },
  {
   "cell_type": "code",
   "execution_count": 8,
   "metadata": {},
   "outputs": [
    {
     "data": {
      "text/plain": [
       "boat\n",
       "-101     1\n",
       "-103     1\n",
       "-108     1\n",
       "-109     1\n",
       "-110     1\n",
       "        ..\n",
       "9       15\n",
       "A        5\n",
       "B        6\n",
       "C        6\n",
       "D       10\n",
       "Name: passengers, Length: 99, dtype: int64"
      ]
     },
     "execution_count": 8,
     "metadata": {},
     "output_type": "execute_result"
    }
   ],
   "source": [
    "df_titanic.groupby('boat')['passengers'].nunique()"
   ]
  },
  {
   "cell_type": "code",
   "execution_count": 9,
   "metadata": {},
   "outputs": [
    {
     "data": {
      "text/plain": [
       "ticket\n",
       "                        1\n",
       "111361 L57 19s 7d       2\n",
       "112058                  1\n",
       "112058 Complimentary    1\n",
       "112059                  1\n",
       "113780 L28 10s          1\n",
       "11755 L39 12s           1\n",
       "13502 L77               3\n",
       "13529 L26 5s            3\n",
       "17477 L69 6s            1\n",
       "17483                   2\n",
       "17483 L221 15s 7d       2\n",
       "17485                   1\n",
       "17485 L56 18s 7d        1\n",
       "17582 L153 9s 3d        3\n",
       "17591 L50 9s 11d        1\n",
       "17593                   1\n",
       "17593 L56 18s 7d        1\n",
       "17604 L39 12s           1\n",
       "17608                   1\n",
       "17608 L262 7s 6d        5\n",
       "17610 L27 15s 5d        1\n",
       "17613 L27 14s 5d        1\n",
       "17754                   2\n",
       "17754 L224 10s 6d       3\n",
       "17755 L512 6s           2\n",
       "229236 L13              1\n",
       "230080 L26              3\n",
       "230136 L39              4\n",
       "24160 L221              3\n",
       "248698 L13              1\n",
       "248744 L13              1\n",
       "248749 L13              1\n",
       "250647                  1\n",
       "27849                   1\n",
       "28220 L32 10s           3\n",
       "34218 L10 10s           1\n",
       "36973 L83 9s 6d         2\n",
       "392091                  2\n",
       "7076                    1\n",
       "L15 1s                  1\n",
       "Name: passengers, dtype: int64"
      ]
     },
     "execution_count": 9,
     "metadata": {},
     "output_type": "execute_result"
    }
   ],
   "source": [
    "df_titanic.groupby('ticket')['passengers'].nunique()"
   ]
  },
  {
   "cell_type": "code",
   "execution_count": 10,
   "metadata": {},
   "outputs": [
    {
     "data": {
      "text/plain": [
       "room\n",
       "2131            1\n",
       "A-11            1\n",
       "A-23            1\n",
       "A-31            1\n",
       "A-36            1\n",
       "B-102           1\n",
       "B-18            2\n",
       "B-3             1\n",
       "B-35            1\n",
       "B-49            2\n",
       "B-5             2\n",
       "B-51/3/5        2\n",
       "B-52/4/6        1\n",
       "B-58/60         2\n",
       "B-82/4          1\n",
       "B-86            1\n",
       "B-?             1\n",
       "C-101           3\n",
       "C-103           1\n",
       "C-104           1\n",
       "C-125           2\n",
       "C-126           2\n",
       "C-148           1\n",
       "C-22            1\n",
       "C-45            1\n",
       "C-49            1\n",
       "C-51            1\n",
       "C-55 (?C-95)    1\n",
       "C-6             1\n",
       "C-62            1\n",
       "C-7             2\n",
       "C-83            2\n",
       "C-85            2\n",
       "C-87            2\n",
       "C-89            1\n",
       "C-91            1\n",
       "C-93            2\n",
       "C-97            1\n",
       "C-99            1\n",
       "C22             2\n",
       "C26             3\n",
       "D-21/2          1\n",
       "D-35            2\n",
       "D-38            1\n",
       "D-56            1\n",
       "D-7             1\n",
       "D-?             2\n",
       "E-101           3\n",
       "E-12            1\n",
       "E-?             1\n",
       "E77             1\n",
       "F-33            4\n",
       "F-?             1\n",
       "Name: passengers, dtype: int64"
      ]
     },
     "execution_count": 10,
     "metadata": {},
     "output_type": "execute_result"
    }
   ],
   "source": [
    "df_titanic.groupby('room')['passengers'].nunique()"
   ]
  },
  {
   "cell_type": "markdown",
   "metadata": {},
   "source": [
    "### We check the 'home/dest' , 'boat' , 'room' , 'ticket' and we can see that the values that we do have do not really have a pattern. This leaves us with the option to either drop the data or to fill them in with interpolate. We will leave cleaning these values for last for now."
   ]
  },
  {
   "cell_type": "code",
   "execution_count": 11,
   "metadata": {},
   "outputs": [
    {
     "data": {
      "text/plain": [
       "<AxesSubplot:xlabel='pclass', ylabel='age'>"
      ]
     },
     "execution_count": 11,
     "metadata": {},
     "output_type": "execute_result"
    },
    {
     "data": {
      "image/png": "[encoded data removed]",
      "text/plain": [
       "<Figure size 432x288 with 1 Axes>"
      ]
     },
     "metadata": {
      "needs_background": "light"
     },
     "output_type": "display_data"
    }
   ],
   "source": [
    "sns.boxplot(x = 'pclass', y = 'age', data = df_titanic)"
   ]
  },
  {
   "cell_type": "code",
   "execution_count": 12,
   "metadata": {},
   "outputs": [
    {
     "data": {
      "text/plain": [
       "<AxesSubplot:xlabel='pclass', ylabel='age'>"
      ]
     },
     "execution_count": 12,
     "metadata": {},
     "output_type": "execute_result"
    },
    {
     "data": {
      "image/png": "[encoded data removed]",
      "text/plain": [
       "<Figure size 432x288 with 1 Axes>"
      ]
     },
     "metadata": {
      "needs_background": "light"
     },
     "output_type": "display_data"
    }
   ],
   "source": [
    "df_titanic['age'] = df_titanic['age'].fillna(df_titanic['age'].mean())\n",
    "\n",
    "sns.boxplot(x = 'pclass', y = 'age', data = df_titanic)"
   ]
  },
  {
   "cell_type": "markdown",
   "metadata": {},
   "source": [
    "### What we see is that by filling in the data with the average age, due to the reason that class 3 passenger have so much missing data the average that we fill in with takes over and marks all other values as outliers. There is not really much we can do because like I said there is just too much missing data"
   ]
  },
  {
   "cell_type": "code",
   "execution_count": 13,
   "metadata": {},
   "outputs": [
    {
     "data": {
      "text/plain": [
       "<AxesSubplot:>"
      ]
     },
     "execution_count": 13,
     "metadata": {},
     "output_type": "execute_result"
    },
    {
     "data": {
      "image/png": "[encoded data removed]",
      "text/plain": [
       "<Figure size 432x288 with 1 Axes>"
      ]
     },
     "metadata": {
      "needs_background": "light"
     },
     "output_type": "display_data"
    }
   ],
   "source": [
    "sns.heatmap(df_titanic.isnull(), yticklabels = False, cbar = False, cmap = 'viridis')"
   ]
  },
  {
   "cell_type": "markdown",
   "metadata": {},
   "source": [
    "### Age is no longer null"
   ]
  },
  {
   "cell_type": "code",
   "execution_count": 14,
   "metadata": {},
   "outputs": [
    {
     "data": {
      "text/plain": [
       "<AxesSubplot:xlabel='embarked', ylabel='Count'>"
      ]
     },
     "execution_count": 14,
     "metadata": {},
     "output_type": "execute_result"
    },
    {
     "data": {
      "image/png": "[encoded data removed]",
      "text/plain": [
       "<Figure size 432x288 with 1 Axes>"
      ]
     },
     "metadata": {
      "needs_background": "light"
     },
     "output_type": "display_data"
    }
   ],
   "source": [
    "sns.histplot( data=df_titanic,x=\"embarked\")"
   ]
  },
  {
   "cell_type": "code",
   "execution_count": 15,
   "metadata": {},
   "outputs": [
    {
     "data": {
      "text/plain": [
       "<AxesSubplot:xlabel='embarked', ylabel='Count'>"
      ]
     },
     "execution_count": 15,
     "metadata": {},
     "output_type": "execute_result"
    },
    {
     "data": {
      "image/png": "[encoded data removed]",
      "text/plain": [
       "<Figure size 432x288 with 1 Axes>"
      ]
     },
     "metadata": {
      "needs_background": "light"
     },
     "output_type": "display_data"
    }
   ],
   "source": [
    "df_titanic[\"embarked\"] = df_titanic[\"embarked\"].interpolate(method=\"pad\")\n",
    "sns.histplot( data=df_titanic,x=\"embarked\")"
   ]
  },
  {
   "cell_type": "markdown",
   "metadata": {},
   "source": [
    "### With embraked we interpolate the data to make sure we do not change the trend by too much."
   ]
  },
  {
   "cell_type": "code",
   "execution_count": 16,
   "metadata": {},
   "outputs": [
    {
     "data": {
      "text/plain": [
       "<AxesSubplot:>"
      ]
     },
     "execution_count": 16,
     "metadata": {},
     "output_type": "execute_result"
    },
    {
     "data": {
      "image/png": "[encoded data removed]",
      "text/plain": [
       "<Figure size 432x288 with 1 Axes>"
      ]
     },
     "metadata": {
      "needs_background": "light"
     },
     "output_type": "display_data"
    }
   ],
   "source": [
    "sns.heatmap(df_titanic.isnull(), yticklabels = False, cbar = False, cmap = 'viridis')"
   ]
  },
  {
   "cell_type": "markdown",
   "metadata": {},
   "source": [
    "### Now for the last 4 values. From the heatmap we can see that if we try to just use dropna(), because the 4 values cover each other. If we just use dropna(), we will be left with almost nothing. Lets try it just in case."
   ]
  },
  {
   "cell_type": "code",
   "execution_count": 17,
   "metadata": {},
   "outputs": [
    {
     "name": "stdout",
     "output_type": "stream",
     "text": [
      "<class 'pandas.core.frame.DataFrame'>\n",
      "Int64Index: 22 entries, 0 to 568\n",
      "Data columns (total 11 columns):\n",
      " #   Column      Non-Null Count  Dtype  \n",
      "---  ------      --------------  -----  \n",
      " 0   passengers  22 non-null     int64  \n",
      " 1   pclass      22 non-null     object \n",
      " 2   survived    22 non-null     int64  \n",
      " 3   name        22 non-null     object \n",
      " 4   age         22 non-null     float64\n",
      " 5   embarked    22 non-null     object \n",
      " 6   home/dest   22 non-null     object \n",
      " 7   room        22 non-null     object \n",
      " 8   ticket      22 non-null     object \n",
      " 9   boat        22 non-null     object \n",
      " 10  sex         22 non-null     object \n",
      "dtypes: float64(1), int64(2), object(8)\n",
      "memory usage: 2.1+ KB\n"
     ]
    }
   ],
   "source": [
    "dfDrop = df_titanic.copy()\n",
    "dfDrop = dfDrop.dropna()\n",
    "dfDrop.info()"
   ]
  },
  {
   "cell_type": "markdown",
   "metadata": {},
   "source": [
    "### Only 22 entries. Not something we can work with."
   ]
  },
  {
   "cell_type": "markdown",
   "metadata": {},
   "source": []
  },
  {
   "cell_type": "code",
   "execution_count": 18,
   "metadata": {},
   "outputs": [
    {
     "name": "stdout",
     "output_type": "stream",
     "text": [
      "<class 'pandas.core.frame.DataFrame'>\n",
      "RangeIndex: 1313 entries, 0 to 1312\n",
      "Data columns (total 11 columns):\n",
      " #   Column      Non-Null Count  Dtype  \n",
      "---  ------      --------------  -----  \n",
      " 0   passengers  1313 non-null   int64  \n",
      " 1   pclass      1313 non-null   object \n",
      " 2   survived    1313 non-null   int64  \n",
      " 3   name        1313 non-null   object \n",
      " 4   age         1313 non-null   float64\n",
      " 5   embarked    1313 non-null   object \n",
      " 6   home/dest   754 non-null    object \n",
      " 7   room        77 non-null     object \n",
      " 8   ticket      69 non-null     object \n",
      " 9   boat        347 non-null    object \n",
      " 10  sex         1313 non-null   object \n",
      "dtypes: float64(1), int64(2), object(8)\n",
      "memory usage: 113.0+ KB\n"
     ]
    }
   ],
   "source": [
    "df_titanic.info()"
   ]
  },
  {
   "cell_type": "markdown",
   "metadata": {},
   "source": [
    "### The only thing we are left that we can do is to interpolate the last 4 values."
   ]
  },
  {
   "cell_type": "code",
   "execution_count": 19,
   "metadata": {},
   "outputs": [
    {
     "name": "stdout",
     "output_type": "stream",
     "text": [
      "<class 'pandas.core.frame.DataFrame'>\n",
      "RangeIndex: 1313 entries, 0 to 1312\n",
      "Data columns (total 11 columns):\n",
      " #   Column      Non-Null Count  Dtype  \n",
      "---  ------      --------------  -----  \n",
      " 0   passengers  1313 non-null   int64  \n",
      " 1   pclass      1313 non-null   object \n",
      " 2   survived    1313 non-null   int64  \n",
      " 3   name        1313 non-null   object \n",
      " 4   age         1313 non-null   float64\n",
      " 5   embarked    1313 non-null   object \n",
      " 6   home/dest   1313 non-null   object \n",
      " 7   room        1313 non-null   object \n",
      " 8   ticket      1313 non-null   object \n",
      " 9   boat        1313 non-null   object \n",
      " 10  sex         1313 non-null   object \n",
      "dtypes: float64(1), int64(2), object(8)\n",
      "memory usage: 113.0+ KB\n"
     ]
    }
   ],
   "source": [
    "df_titanic= df_titanic.interpolate(method=\"pad\")\n",
    "df_titanic.info()"
   ]
  },
  {
   "cell_type": "code",
   "execution_count": 20,
   "metadata": {},
   "outputs": [
    {
     "data": {
      "text/plain": [
       "<AxesSubplot:>"
      ]
     },
     "execution_count": 20,
     "metadata": {},
     "output_type": "execute_result"
    },
    {
     "data": {
      "image/png": "[encoded data removed]",
      "text/plain": [
       "<Figure size 432x288 with 1 Axes>"
      ]
     },
     "metadata": {
      "needs_background": "light"
     },
     "output_type": "display_data"
    }
   ],
   "source": [
    "sns.heatmap(df_titanic.isnull(), yticklabels = False, cbar = False, cmap = 'viridis')"
   ]
  },
  {
   "cell_type": "markdown",
   "metadata": {},
   "source": [
    "### We can see no more missing entries"
   ]
  },
  {
   "cell_type": "code",
   "execution_count": 21,
   "metadata": {},
   "outputs": [
    {
     "data": {
      "text/html": [
       "<div>\n",
       "<style scoped>\n",
       "    .dataframe tbody tr th:only-of-type {\n",
       "        vertical-align: middle;\n",
       "    }\n",
       "\n",
       "    .dataframe tbody tr th {\n",
       "        vertical-align: top;\n",
       "    }\n",
       "\n",
       "    .dataframe thead th {\n",
       "        text-align: right;\n",
       "    }\n",
       "</style>\n",
       "<table border=\"1\" class=\"dataframe\">\n",
       "  <thead>\n",
       "    <tr style=\"text-align: right;\">\n",
       "      <th></th>\n",
       "      <th>passengers</th>\n",
       "      <th>pclass</th>\n",
       "      <th>survived</th>\n",
       "      <th>name</th>\n",
       "      <th>age</th>\n",
       "      <th>embarked</th>\n",
       "      <th>home/dest</th>\n",
       "      <th>room</th>\n",
       "      <th>ticket</th>\n",
       "      <th>boat</th>\n",
       "      <th>sex</th>\n",
       "    </tr>\n",
       "  </thead>\n",
       "  <tbody>\n",
       "    <tr>\n",
       "      <th>0</th>\n",
       "      <td>1</td>\n",
       "      <td>1st</td>\n",
       "      <td>1</td>\n",
       "      <td>Allen, Miss Elisabeth Walton</td>\n",
       "      <td>29.000000</td>\n",
       "      <td>Southampton</td>\n",
       "      <td>St Louis, MO</td>\n",
       "      <td>B-5</td>\n",
       "      <td>24160 L221</td>\n",
       "      <td>2</td>\n",
       "      <td>female</td>\n",
       "    </tr>\n",
       "    <tr>\n",
       "      <th>1</th>\n",
       "      <td>2</td>\n",
       "      <td>1st</td>\n",
       "      <td>0</td>\n",
       "      <td>Allison, Miss Helen Loraine</td>\n",
       "      <td>2.000000</td>\n",
       "      <td>Southampton</td>\n",
       "      <td>Montreal, PQ / Chesterville, ON</td>\n",
       "      <td>C26</td>\n",
       "      <td>24160 L221</td>\n",
       "      <td>2</td>\n",
       "      <td>female</td>\n",
       "    </tr>\n",
       "    <tr>\n",
       "      <th>2</th>\n",
       "      <td>3</td>\n",
       "      <td>1st</td>\n",
       "      <td>0</td>\n",
       "      <td>Allison, Mr Hudson Joshua Creighton</td>\n",
       "      <td>30.000000</td>\n",
       "      <td>Southampton</td>\n",
       "      <td>Montreal, PQ / Chesterville, ON</td>\n",
       "      <td>C26</td>\n",
       "      <td>24160 L221</td>\n",
       "      <td>-135</td>\n",
       "      <td>male</td>\n",
       "    </tr>\n",
       "    <tr>\n",
       "      <th>3</th>\n",
       "      <td>4</td>\n",
       "      <td>1st</td>\n",
       "      <td>0</td>\n",
       "      <td>Allison, Mrs Hudson J.C. (Bessie Waldo Daniels)</td>\n",
       "      <td>25.000000</td>\n",
       "      <td>Southampton</td>\n",
       "      <td>Montreal, PQ / Chesterville, ON</td>\n",
       "      <td>C26</td>\n",
       "      <td>24160 L221</td>\n",
       "      <td>-135</td>\n",
       "      <td>female</td>\n",
       "    </tr>\n",
       "    <tr>\n",
       "      <th>4</th>\n",
       "      <td>5</td>\n",
       "      <td>1st</td>\n",
       "      <td>1</td>\n",
       "      <td>Allison, Master Hudson Trevor</td>\n",
       "      <td>0.916700</td>\n",
       "      <td>Southampton</td>\n",
       "      <td>Montreal, PQ / Chesterville, ON</td>\n",
       "      <td>C22</td>\n",
       "      <td>24160 L221</td>\n",
       "      <td>11</td>\n",
       "      <td>male</td>\n",
       "    </tr>\n",
       "    <tr>\n",
       "      <th>...</th>\n",
       "      <td>...</td>\n",
       "      <td>...</td>\n",
       "      <td>...</td>\n",
       "      <td>...</td>\n",
       "      <td>...</td>\n",
       "      <td>...</td>\n",
       "      <td>...</td>\n",
       "      <td>...</td>\n",
       "      <td>...</td>\n",
       "      <td>...</td>\n",
       "      <td>...</td>\n",
       "    </tr>\n",
       "    <tr>\n",
       "      <th>1308</th>\n",
       "      <td>1309</td>\n",
       "      <td>3rd</td>\n",
       "      <td>0</td>\n",
       "      <td>Zakarian, Mr Artun</td>\n",
       "      <td>31.194181</td>\n",
       "      <td>Southampton</td>\n",
       "      <td>Myren, Sweden New York, NY</td>\n",
       "      <td>F-?</td>\n",
       "      <td>392091</td>\n",
       "      <td>C</td>\n",
       "      <td>male</td>\n",
       "    </tr>\n",
       "    <tr>\n",
       "      <th>1309</th>\n",
       "      <td>1310</td>\n",
       "      <td>3rd</td>\n",
       "      <td>0</td>\n",
       "      <td>Zakarian, Mr Maprieder</td>\n",
       "      <td>31.194181</td>\n",
       "      <td>Southampton</td>\n",
       "      <td>Myren, Sweden New York, NY</td>\n",
       "      <td>F-?</td>\n",
       "      <td>392091</td>\n",
       "      <td>C</td>\n",
       "      <td>male</td>\n",
       "    </tr>\n",
       "    <tr>\n",
       "      <th>1310</th>\n",
       "      <td>1311</td>\n",
       "      <td>3rd</td>\n",
       "      <td>0</td>\n",
       "      <td>Zenn, Mr Philip</td>\n",
       "      <td>31.194181</td>\n",
       "      <td>Southampton</td>\n",
       "      <td>Myren, Sweden New York, NY</td>\n",
       "      <td>F-?</td>\n",
       "      <td>392091</td>\n",
       "      <td>C</td>\n",
       "      <td>male</td>\n",
       "    </tr>\n",
       "    <tr>\n",
       "      <th>1311</th>\n",
       "      <td>1312</td>\n",
       "      <td>3rd</td>\n",
       "      <td>0</td>\n",
       "      <td>Zievens, Rene</td>\n",
       "      <td>31.194181</td>\n",
       "      <td>Southampton</td>\n",
       "      <td>Myren, Sweden New York, NY</td>\n",
       "      <td>F-?</td>\n",
       "      <td>392091</td>\n",
       "      <td>C</td>\n",
       "      <td>female</td>\n",
       "    </tr>\n",
       "    <tr>\n",
       "      <th>1312</th>\n",
       "      <td>1313</td>\n",
       "      <td>3rd</td>\n",
       "      <td>0</td>\n",
       "      <td>Zimmerman, Leo</td>\n",
       "      <td>31.194181</td>\n",
       "      <td>Southampton</td>\n",
       "      <td>Myren, Sweden New York, NY</td>\n",
       "      <td>F-?</td>\n",
       "      <td>392091</td>\n",
       "      <td>C</td>\n",
       "      <td>male</td>\n",
       "    </tr>\n",
       "  </tbody>\n",
       "</table>\n",
       "<p>1313 rows × 11 columns</p>\n",
       "</div>"
      ],
      "text/plain": [
       "      passengers pclass  survived  \\\n",
       "0              1    1st         1   \n",
       "1              2    1st         0   \n",
       "2              3    1st         0   \n",
       "3              4    1st         0   \n",
       "4              5    1st         1   \n",
       "...          ...    ...       ...   \n",
       "1308        1309    3rd         0   \n",
       "1309        1310    3rd         0   \n",
       "1310        1311    3rd         0   \n",
       "1311        1312    3rd         0   \n",
       "1312        1313    3rd         0   \n",
       "\n",
       "                                                 name        age     embarked  \\\n",
       "0                        Allen, Miss Elisabeth Walton  29.000000  Southampton   \n",
       "1                         Allison, Miss Helen Loraine   2.000000  Southampton   \n",
       "2                 Allison, Mr Hudson Joshua Creighton  30.000000  Southampton   \n",
       "3     Allison, Mrs Hudson J.C. (Bessie Waldo Daniels)  25.000000  Southampton   \n",
       "4                       Allison, Master Hudson Trevor   0.916700  Southampton   \n",
       "...                                               ...        ...          ...   \n",
       "1308                               Zakarian, Mr Artun  31.194181  Southampton   \n",
       "1309                           Zakarian, Mr Maprieder  31.194181  Southampton   \n",
       "1310                                  Zenn, Mr Philip  31.194181  Southampton   \n",
       "1311                                    Zievens, Rene  31.194181  Southampton   \n",
       "1312                                   Zimmerman, Leo  31.194181  Southampton   \n",
       "\n",
       "                            home/dest room      ticket  boat     sex  \n",
       "0                        St Louis, MO  B-5  24160 L221     2  female  \n",
       "1     Montreal, PQ / Chesterville, ON  C26  24160 L221     2  female  \n",
       "2     Montreal, PQ / Chesterville, ON  C26  24160 L221  -135    male  \n",
       "3     Montreal, PQ / Chesterville, ON  C26  24160 L221  -135  female  \n",
       "4     Montreal, PQ / Chesterville, ON  C22  24160 L221    11    male  \n",
       "...                               ...  ...         ...   ...     ...  \n",
       "1308       Myren, Sweden New York, NY  F-?      392091     C    male  \n",
       "1309       Myren, Sweden New York, NY  F-?      392091     C    male  \n",
       "1310       Myren, Sweden New York, NY  F-?      392091     C    male  \n",
       "1311       Myren, Sweden New York, NY  F-?      392091     C  female  \n",
       "1312       Myren, Sweden New York, NY  F-?      392091     C    male  \n",
       "\n",
       "[1313 rows x 11 columns]"
      ]
     },
     "execution_count": 21,
     "metadata": {},
     "output_type": "execute_result"
    }
   ],
   "source": [
    "df_titanic"
   ]
  },
  {
   "cell_type": "code",
   "execution_count": null,
   "metadata": {},
   "outputs": [],
   "source": []
  }
 ],
 "metadata": {
  "kernelspec": {
   "display_name": "Python 3 (ipykernel)",
   "language": "python",
   "name": "python3"
  },
  "language_info": {
   "codemirror_mode": {
    "name": "ipython",
    "version": 3
   },
   "file_extension": ".py",
   "mimetype": "text/x-python",
   "name": "python",
   "nbconvert_exporter": "python",
   "pygments_lexer": "ipython3",
   "version": "3.9.7"
  }
 },
 "nbformat": 4,
 "nbformat_minor": 1
}
