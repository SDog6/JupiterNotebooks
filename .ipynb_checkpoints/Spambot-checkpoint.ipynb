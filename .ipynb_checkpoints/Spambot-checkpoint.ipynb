{
 "cells": [
  {
   "cell_type": "code",
   "execution_count": 1,
   "id": "c7962b57",
   "metadata": {},
   "outputs": [],
   "source": [
    "import smtplib"
   ]
  },
  {
   "cell_type": "code",
   "execution_count": 9,
   "id": "848aee2e",
   "metadata": {},
   "outputs": [],
   "source": [
    "email = 'hristo.hristov2021@gmail.com'\n",
    "passord = 'dlvdefsmgvzhxrqs'"
   ]
  },
  {
   "cell_type": "code",
   "execution_count": 16,
   "id": "eb59c6f1",
   "metadata": {},
   "outputs": [],
   "source": [
    "with smtplib.SMTP('smtp.gmail.com',587) as smtp:\n",
    "    smtp.ehlo()\n",
    "    smtp.starttls()\n",
    "    smtp.ehlo()\n",
    "    \n",
    "    smtp.login(email,passord)\n",
    "    \n",
    "    subject = 'maika ti'\n",
    "    body = 'Pedal Device S sha grymne'\n",
    "    \n",
    "    msg = f'Subject:{subject}\\n\\n{body}'\n",
    "    \n",
    "    smtp.sendmail(email,'hristo2001@gmail.com',msg)"
   ]
  },
  {
   "cell_type": "code",
   "execution_count": null,
   "id": "236ba4b8",
   "metadata": {},
   "outputs": [],
   "source": []
  }
 ],
 "metadata": {
  "kernelspec": {
   "display_name": "Python 3 (ipykernel)",
   "language": "python",
   "name": "python3"
  },
  "language_info": {
   "codemirror_mode": {
    "name": "ipython",
    "version": 3
   },
   "file_extension": ".py",
   "mimetype": "text/x-python",
   "name": "python",
   "nbconvert_exporter": "python",
   "pygments_lexer": "ipython3",
   "version": "3.9.7"
  },
  "toc": {
   "base_numbering": 1,
   "nav_menu": {},
   "number_sections": true,
   "sideBar": true,
   "skip_h1_title": false,
   "title_cell": "Table of Contents",
   "title_sidebar": "Contents",
   "toc_cell": false,
   "toc_position": {},
   "toc_section_display": true,
   "toc_window_display": false
  }
 },
 "nbformat": 4,
 "nbformat_minor": 5
}
