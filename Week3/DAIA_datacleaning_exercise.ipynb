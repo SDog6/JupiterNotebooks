{
 "cells": [
  {
   "cell_type": "code",
   "execution_count": 1,
   "id": "4f45d24e",
   "metadata": {},
   "outputs": [],
   "source": [
    "import pandas as pd\n",
    "import matplotlib.pyplot as plt\n",
    "import seaborn as sns\n",
    "\n",
    "df = pd.read_csv('GRAIN---Land-grab-deals---Jan-2012.csv', sep=';', decimal=',')\n"
   ]
  },
  {
   "cell_type": "code",
   "execution_count": 1,
   "id": "5823ab19",
   "metadata": {},
   "outputs": [
    {
     "ename": "NameError",
     "evalue": "name 'df_titanic' is not defined",
     "output_type": "error",
     "traceback": [
      "\u001b[1;31m---------------------------------------------------------------------------\u001b[0m",
      "\u001b[1;31mNameError\u001b[0m                                 Traceback (most recent call last)",
      "\u001b[1;32m~\\AppData\\Local\\Temp/ipykernel_12840/1409508061.py\u001b[0m in \u001b[0;36m<module>\u001b[1;34m\u001b[0m\n\u001b[0;32m      1\u001b[0m \u001b[1;31m# quickly check form and dtypes\u001b[0m\u001b[1;33m\u001b[0m\u001b[1;33m\u001b[0m\u001b[0m\n\u001b[1;32m----> 2\u001b[1;33m \u001b[0mdf_titanic\u001b[0m\u001b[1;33m.\u001b[0m\u001b[0mcolumns\u001b[0m\u001b[1;33m[\u001b[0m\u001b[0mdf_titanic\u001b[0m\u001b[1;33m.\u001b[0m\u001b[0misnull\u001b[0m\u001b[1;33m(\u001b[0m\u001b[1;33m)\u001b[0m\u001b[1;33m.\u001b[0m\u001b[0many\u001b[0m\u001b[1;33m(\u001b[0m\u001b[1;33m)\u001b[0m\u001b[1;33m]\u001b[0m\u001b[1;33m\u001b[0m\u001b[1;33m\u001b[0m\u001b[0m\n\u001b[0m",
      "\u001b[1;31mNameError\u001b[0m: name 'df_titanic' is not defined"
     ]
    }
   ],
   "source": [
    "# quickly check form and dtypes\n",
    "df.info()"
   ]
  },
  {
   "cell_type": "code",
   "execution_count": 3,
   "id": "8a25a3d0",
   "metadata": {},
   "outputs": [
    {
     "data": {
      "text/plain": [
       "Landgrabbed               0\n",
       "Landgrabber               0\n",
       "Base                      0\n",
       "Sector                   10\n",
       "Hectares                  2\n",
       "Production               34\n",
       "Projected investment    310\n",
       "Status of deal            0\n",
       "Summary                   0\n",
       "dtype: int64"
      ]
     },
     "execution_count": 3,
     "metadata": {},
     "output_type": "execute_result"
    }
   ],
   "source": [
    "df.isna().sum()"
   ]
  },
  {
   "cell_type": "code",
   "execution_count": 4,
   "id": "c1e3508d",
   "metadata": {},
   "outputs": [
    {
     "data": {
      "text/html": [
       "<div>\n",
       "<style scoped>\n",
       "    .dataframe tbody tr th:only-of-type {\n",
       "        vertical-align: middle;\n",
       "    }\n",
       "\n",
       "    .dataframe tbody tr th {\n",
       "        vertical-align: top;\n",
       "    }\n",
       "\n",
       "    .dataframe thead th {\n",
       "        text-align: right;\n",
       "    }\n",
       "</style>\n",
       "<table border=\"1\" class=\"dataframe\">\n",
       "  <thead>\n",
       "    <tr style=\"text-align: right;\">\n",
       "      <th></th>\n",
       "      <th>Landgrabbed</th>\n",
       "      <th>Landgrabber</th>\n",
       "      <th>Base</th>\n",
       "      <th>Sector</th>\n",
       "      <th>Hectares</th>\n",
       "      <th>Production</th>\n",
       "      <th>Projected investment</th>\n",
       "      <th>Status of deal</th>\n",
       "      <th>Summary</th>\n",
       "    </tr>\n",
       "  </thead>\n",
       "  <tbody>\n",
       "    <tr>\n",
       "      <th>0</th>\n",
       "      <td>Algeria</td>\n",
       "      <td>Al Qudra</td>\n",
       "      <td>UAE</td>\n",
       "      <td>Finance, real estate</td>\n",
       "      <td>31000.0</td>\n",
       "      <td>Milk, olive oil, potatoes</td>\n",
       "      <td>NaN</td>\n",
       "      <td>Done</td>\n",
       "      <td>Al Qudra Holding is a joint-stock company esta...</td>\n",
       "    </tr>\n",
       "    <tr>\n",
       "      <th>1</th>\n",
       "      <td>Angola</td>\n",
       "      <td>CAMC Engineering Co. Ltd</td>\n",
       "      <td>China</td>\n",
       "      <td>Construction</td>\n",
       "      <td>1500.0</td>\n",
       "      <td>Rice</td>\n",
       "      <td>US$77 million</td>\n",
       "      <td>Done</td>\n",
       "      <td>CAMCE is a subsidiary of the China National Ma...</td>\n",
       "    </tr>\n",
       "    <tr>\n",
       "      <th>2</th>\n",
       "      <td>Angola</td>\n",
       "      <td>ENI</td>\n",
       "      <td>Italy</td>\n",
       "      <td>Energy</td>\n",
       "      <td>12000.0</td>\n",
       "      <td>Oil palm</td>\n",
       "      <td>NaN</td>\n",
       "      <td>In process</td>\n",
       "      <td>The project is a joint venture between Sonango...</td>\n",
       "    </tr>\n",
       "    <tr>\n",
       "      <th>3</th>\n",
       "      <td>Angola</td>\n",
       "      <td>AfriAgro</td>\n",
       "      <td>Portugal</td>\n",
       "      <td>Finance, real estate</td>\n",
       "      <td>5000.0</td>\n",
       "      <td>Oil palm</td>\n",
       "      <td>US$30-35 million</td>\n",
       "      <td>Done</td>\n",
       "      <td>AfriAgro is a subsidiary of the Portugal-based...</td>\n",
       "    </tr>\n",
       "    <tr>\n",
       "      <th>4</th>\n",
       "      <td>Angola</td>\n",
       "      <td>Eurico Ferreira</td>\n",
       "      <td>Portugal</td>\n",
       "      <td>Energy, telecommunications\\n</td>\n",
       "      <td>30000.0</td>\n",
       "      <td>Sugar cane</td>\n",
       "      <td>US$200 million</td>\n",
       "      <td>Done</td>\n",
       "      <td>In 2008, Portuguese conglomerate Eurico Ferrei...</td>\n",
       "    </tr>\n",
       "  </tbody>\n",
       "</table>\n",
       "</div>"
      ],
      "text/plain": [
       "  Landgrabbed               Landgrabber      Base  \\\n",
       "0     Algeria                  Al Qudra       UAE   \n",
       "1      Angola  CAMC Engineering Co. Ltd     China   \n",
       "2      Angola                       ENI     Italy   \n",
       "3      Angola                  AfriAgro  Portugal   \n",
       "4      Angola           Eurico Ferreira  Portugal   \n",
       "\n",
       "                         Sector Hectares                 Production  \\\n",
       "0          Finance, real estate  31000.0  Milk, olive oil, potatoes   \n",
       "1                  Construction   1500.0                       Rice   \n",
       "2                        Energy  12000.0                   Oil palm   \n",
       "3          Finance, real estate   5000.0                   Oil palm   \n",
       "4  Energy, telecommunications\\n  30000.0                 Sugar cane   \n",
       "\n",
       "  Projected investment Status of deal  \\\n",
       "0                  NaN           Done   \n",
       "1        US$77 million          Done    \n",
       "2                  NaN     In process   \n",
       "3     US$30-35 million           Done   \n",
       "4       US$200 million           Done   \n",
       "\n",
       "                                             Summary  \n",
       "0  Al Qudra Holding is a joint-stock company esta...  \n",
       "1  CAMCE is a subsidiary of the China National Ma...  \n",
       "2  The project is a joint venture between Sonango...  \n",
       "3  AfriAgro is a subsidiary of the Portugal-based...  \n",
       "4  In 2008, Portuguese conglomerate Eurico Ferrei...  "
      ]
     },
     "execution_count": 4,
     "metadata": {},
     "output_type": "execute_result"
    }
   ],
   "source": [
    "# and check the first lines of data to have a first glance\n",
    "df.head()"
   ]
  },
  {
   "cell_type": "code",
   "execution_count": 5,
   "id": "5cfa602e",
   "metadata": {},
   "outputs": [
    {
     "data": {
      "text/html": [
       "<div>\n",
       "<style scoped>\n",
       "    .dataframe tbody tr th:only-of-type {\n",
       "        vertical-align: middle;\n",
       "    }\n",
       "\n",
       "    .dataframe tbody tr th {\n",
       "        vertical-align: top;\n",
       "    }\n",
       "\n",
       "    .dataframe thead th {\n",
       "        text-align: right;\n",
       "    }\n",
       "</style>\n",
       "<table border=\"1\" class=\"dataframe\">\n",
       "  <thead>\n",
       "    <tr style=\"text-align: right;\">\n",
       "      <th></th>\n",
       "      <th>Landgrabbed</th>\n",
       "      <th>Landgrabber</th>\n",
       "      <th>Base</th>\n",
       "      <th>Sector</th>\n",
       "      <th>Hectares</th>\n",
       "      <th>Production</th>\n",
       "      <th>Projected investment</th>\n",
       "      <th>Status of deal</th>\n",
       "      <th>Summary</th>\n",
       "    </tr>\n",
       "  </thead>\n",
       "  <tbody>\n",
       "    <tr>\n",
       "      <th>count</th>\n",
       "      <td>416</td>\n",
       "      <td>416</td>\n",
       "      <td>416</td>\n",
       "      <td>406</td>\n",
       "      <td>414</td>\n",
       "      <td>382</td>\n",
       "      <td>106</td>\n",
       "      <td>416</td>\n",
       "      <td>416</td>\n",
       "    </tr>\n",
       "    <tr>\n",
       "      <th>unique</th>\n",
       "      <td>71</td>\n",
       "      <td>308</td>\n",
       "      <td>63</td>\n",
       "      <td>27</td>\n",
       "      <td>220</td>\n",
       "      <td>182</td>\n",
       "      <td>89</td>\n",
       "      <td>10</td>\n",
       "      <td>401</td>\n",
       "    </tr>\n",
       "    <tr>\n",
       "      <th>top</th>\n",
       "      <td>Mozambique</td>\n",
       "      <td>Foras International Investment Co</td>\n",
       "      <td>US</td>\n",
       "      <td>Agribusiness</td>\n",
       "      <td>10000.0</td>\n",
       "      <td>Oil palm</td>\n",
       "      <td>US$250 million</td>\n",
       "      <td>Done</td>\n",
       "      <td>Germanagrar is a German company based in Hambu...</td>\n",
       "    </tr>\n",
       "    <tr>\n",
       "      <th>freq</th>\n",
       "      <td>24</td>\n",
       "      <td>6</td>\n",
       "      <td>40</td>\n",
       "      <td>199</td>\n",
       "      <td>32</td>\n",
       "      <td>40</td>\n",
       "      <td>3</td>\n",
       "      <td>324</td>\n",
       "      <td>4</td>\n",
       "    </tr>\n",
       "  </tbody>\n",
       "</table>\n",
       "</div>"
      ],
      "text/plain": [
       "       Landgrabbed                        Landgrabber Base        Sector  \\\n",
       "count          416                                416  416           406   \n",
       "unique          71                                308   63            27   \n",
       "top     Mozambique  Foras International Investment Co   US  Agribusiness   \n",
       "freq            24                                  6   40           199   \n",
       "\n",
       "       Hectares Production Projected investment Status of deal  \\\n",
       "count       414        382                  106            416   \n",
       "unique      220        182                   89             10   \n",
       "top     10000.0   Oil palm       US$250 million           Done   \n",
       "freq         32         40                    3            324   \n",
       "\n",
       "                                                  Summary  \n",
       "count                                                 416  \n",
       "unique                                                401  \n",
       "top     Germanagrar is a German company based in Hambu...  \n",
       "freq                                                    4  "
      ]
     },
     "execution_count": 5,
     "metadata": {},
     "output_type": "execute_result"
    }
   ],
   "source": [
    "# describe() gives a more statistical description. \n",
    "df.describe()"
   ]
  },
  {
   "cell_type": "code",
   "execution_count": 6,
   "id": "7031707a",
   "metadata": {},
   "outputs": [
    {
     "data": {
      "text/plain": [
       "Mozambique    24\n",
       "Australia     22\n",
       "Brazil        22\n",
       "Ethiopia      21\n",
       "Russia        19\n",
       "              ..\n",
       "China          1\n",
       "Burma          1\n",
       "Brazil         1\n",
       "Argentina      1\n",
       "Zimbabawe      1\n",
       "Name: Landgrabbed, Length: 71, dtype: int64"
      ]
     },
     "execution_count": 6,
     "metadata": {},
     "output_type": "execute_result"
    }
   ],
   "source": [
    "# we see e.g. that Mozambique is listed in the 'top' row. What does this mean?\n",
    "# Apparently it is the country that has the most occurences in this column\n",
    "df.Landgrabbed.value_counts()"
   ]
  },
  {
   "cell_type": "code",
   "execution_count": 7,
   "id": "3abbbac0",
   "metadata": {},
   "outputs": [
    {
     "data": {
      "text/plain": [
       "0             Finance, real estate\n",
       "1                     Construction\n",
       "2                           Energy\n",
       "3             Finance, real estate\n",
       "4     Energy, telecommunications\\n\n",
       "5             Agribusiness, energy\n",
       "6                     Agribusiness\n",
       "7                     Agribusiness\n",
       "8                     Agribusiness\n",
       "9                          Finance\n",
       "10                    Agribusiness\n",
       "11                         Finance\n",
       "12                         Finance\n",
       "13                         Finance\n",
       "14                         Finance\n",
       "15                      Industrial\n",
       "16                    Agribusiness\n",
       "17                    Agribusiness\n",
       "18                    Agribusiness\n",
       "19                      Government\n",
       "20                    Agribusiness\n",
       "21                    Agribusiness\n",
       "22                    Agribusiness\n",
       "23                         Finance\n",
       "24                         Finance\n",
       "25                    Agribusiness\n",
       "26                             NaN\n",
       "27       Industrial, real estate\\n\n",
       "28                    Construction\n",
       "29                    Agribusiness\n",
       "30                         Finance\n",
       "31                         Finance\n",
       "32                         Finance\n",
       "33                    Agribusiness\n",
       "34                    Agribusiness\n",
       "35                      Industrial\n",
       "36                         Finance\n",
       "37                    Agribusiness\n",
       "38                         Finance\n",
       "39                         Finance\n",
       "40                         Finance\n",
       "41                         Finance\n",
       "42                         Finance\n",
       "43                         Finance\n",
       "44                             NaN\n",
       "45    Agribusiness, construction\\n\n",
       "46                         Finance\n",
       "47                             NaN\n",
       "48                          Energy\n",
       "49                    Agribusiness\n",
       "Name: Sector, dtype: object"
      ]
     },
     "execution_count": 7,
     "metadata": {},
     "output_type": "execute_result"
    }
   ],
   "source": [
    "# Look at the Sector column, you can see (sometimes) multiple values, separated by comma's\n",
    "df['Sector'].head(50)"
   ]
  },
  {
   "cell_type": "code",
   "execution_count": 8,
   "id": "3b883ff2",
   "metadata": {},
   "outputs": [
    {
     "data": {
      "text/html": [
       "<div>\n",
       "<style scoped>\n",
       "    .dataframe tbody tr th:only-of-type {\n",
       "        vertical-align: middle;\n",
       "    }\n",
       "\n",
       "    .dataframe tbody tr th {\n",
       "        vertical-align: top;\n",
       "    }\n",
       "\n",
       "    .dataframe thead th {\n",
       "        text-align: right;\n",
       "    }\n",
       "</style>\n",
       "<table border=\"1\" class=\"dataframe\">\n",
       "  <thead>\n",
       "    <tr style=\"text-align: right;\">\n",
       "      <th></th>\n",
       "      <th>0</th>\n",
       "      <th>1</th>\n",
       "      <th>2</th>\n",
       "    </tr>\n",
       "  </thead>\n",
       "  <tbody>\n",
       "    <tr>\n",
       "      <th>0</th>\n",
       "      <td>Finance</td>\n",
       "      <td>real estate</td>\n",
       "      <td>None</td>\n",
       "    </tr>\n",
       "    <tr>\n",
       "      <th>1</th>\n",
       "      <td>Construction</td>\n",
       "      <td>None</td>\n",
       "      <td>None</td>\n",
       "    </tr>\n",
       "    <tr>\n",
       "      <th>2</th>\n",
       "      <td>Energy</td>\n",
       "      <td>None</td>\n",
       "      <td>None</td>\n",
       "    </tr>\n",
       "    <tr>\n",
       "      <th>3</th>\n",
       "      <td>Finance</td>\n",
       "      <td>real estate</td>\n",
       "      <td>None</td>\n",
       "    </tr>\n",
       "    <tr>\n",
       "      <th>4</th>\n",
       "      <td>Energy</td>\n",
       "      <td>telecommunications\\n</td>\n",
       "      <td>None</td>\n",
       "    </tr>\n",
       "    <tr>\n",
       "      <th>5</th>\n",
       "      <td>Agribusiness</td>\n",
       "      <td>energy</td>\n",
       "      <td>None</td>\n",
       "    </tr>\n",
       "    <tr>\n",
       "      <th>6</th>\n",
       "      <td>Agribusiness</td>\n",
       "      <td>None</td>\n",
       "      <td>None</td>\n",
       "    </tr>\n",
       "    <tr>\n",
       "      <th>7</th>\n",
       "      <td>Agribusiness</td>\n",
       "      <td>None</td>\n",
       "      <td>None</td>\n",
       "    </tr>\n",
       "    <tr>\n",
       "      <th>8</th>\n",
       "      <td>Agribusiness</td>\n",
       "      <td>None</td>\n",
       "      <td>None</td>\n",
       "    </tr>\n",
       "    <tr>\n",
       "      <th>9</th>\n",
       "      <td>Finance</td>\n",
       "      <td>None</td>\n",
       "      <td>None</td>\n",
       "    </tr>\n",
       "  </tbody>\n",
       "</table>\n",
       "</div>"
      ],
      "text/plain": [
       "              0                      1     2\n",
       "0       Finance            real estate  None\n",
       "1  Construction                   None  None\n",
       "2        Energy                   None  None\n",
       "3       Finance            real estate  None\n",
       "4        Energy   telecommunications\\n  None\n",
       "5  Agribusiness                 energy  None\n",
       "6  Agribusiness                   None  None\n",
       "7  Agribusiness                   None  None\n",
       "8  Agribusiness                   None  None\n",
       "9       Finance                   None  None"
      ]
     },
     "execution_count": 8,
     "metadata": {},
     "output_type": "execute_result"
    }
   ],
   "source": [
    "# let's try to split those values (first in a separate data frame)\n",
    "subset = df['Sector'].str.split(',', expand = True)\n",
    "subset.head(10)"
   ]
  },
  {
   "cell_type": "code",
   "execution_count": 9,
   "id": "a70d1efd",
   "metadata": {},
   "outputs": [
    {
     "data": {
      "text/html": [
       "<div>\n",
       "<style scoped>\n",
       "    .dataframe tbody tr th:only-of-type {\n",
       "        vertical-align: middle;\n",
       "    }\n",
       "\n",
       "    .dataframe tbody tr th {\n",
       "        vertical-align: top;\n",
       "    }\n",
       "\n",
       "    .dataframe thead th {\n",
       "        text-align: right;\n",
       "    }\n",
       "</style>\n",
       "<table border=\"1\" class=\"dataframe\">\n",
       "  <thead>\n",
       "    <tr style=\"text-align: right;\">\n",
       "      <th></th>\n",
       "      <th>Landgrabbed</th>\n",
       "      <th>Landgrabber</th>\n",
       "      <th>Base</th>\n",
       "      <th>Hectares</th>\n",
       "      <th>Production</th>\n",
       "      <th>Projected investment</th>\n",
       "      <th>Status of deal</th>\n",
       "      <th>Summary</th>\n",
       "      <th>sector1</th>\n",
       "      <th>sector2</th>\n",
       "      <th>sector3</th>\n",
       "    </tr>\n",
       "  </thead>\n",
       "  <tbody>\n",
       "    <tr>\n",
       "      <th>0</th>\n",
       "      <td>Algeria</td>\n",
       "      <td>Al Qudra</td>\n",
       "      <td>UAE</td>\n",
       "      <td>31000.0</td>\n",
       "      <td>Milk, olive oil, potatoes</td>\n",
       "      <td>NaN</td>\n",
       "      <td>Done</td>\n",
       "      <td>Al Qudra Holding is a joint-stock company esta...</td>\n",
       "      <td>Finance</td>\n",
       "      <td>real estate</td>\n",
       "      <td>None</td>\n",
       "    </tr>\n",
       "    <tr>\n",
       "      <th>1</th>\n",
       "      <td>Angola</td>\n",
       "      <td>CAMC Engineering Co. Ltd</td>\n",
       "      <td>China</td>\n",
       "      <td>1500.0</td>\n",
       "      <td>Rice</td>\n",
       "      <td>US$77 million</td>\n",
       "      <td>Done</td>\n",
       "      <td>CAMCE is a subsidiary of the China National Ma...</td>\n",
       "      <td>Construction</td>\n",
       "      <td>None</td>\n",
       "      <td>None</td>\n",
       "    </tr>\n",
       "    <tr>\n",
       "      <th>2</th>\n",
       "      <td>Angola</td>\n",
       "      <td>ENI</td>\n",
       "      <td>Italy</td>\n",
       "      <td>12000.0</td>\n",
       "      <td>Oil palm</td>\n",
       "      <td>NaN</td>\n",
       "      <td>In process</td>\n",
       "      <td>The project is a joint venture between Sonango...</td>\n",
       "      <td>Energy</td>\n",
       "      <td>None</td>\n",
       "      <td>None</td>\n",
       "    </tr>\n",
       "    <tr>\n",
       "      <th>3</th>\n",
       "      <td>Angola</td>\n",
       "      <td>AfriAgro</td>\n",
       "      <td>Portugal</td>\n",
       "      <td>5000.0</td>\n",
       "      <td>Oil palm</td>\n",
       "      <td>US$30-35 million</td>\n",
       "      <td>Done</td>\n",
       "      <td>AfriAgro is a subsidiary of the Portugal-based...</td>\n",
       "      <td>Finance</td>\n",
       "      <td>real estate</td>\n",
       "      <td>None</td>\n",
       "    </tr>\n",
       "    <tr>\n",
       "      <th>4</th>\n",
       "      <td>Angola</td>\n",
       "      <td>Eurico Ferreira</td>\n",
       "      <td>Portugal</td>\n",
       "      <td>30000.0</td>\n",
       "      <td>Sugar cane</td>\n",
       "      <td>US$200 million</td>\n",
       "      <td>Done</td>\n",
       "      <td>In 2008, Portuguese conglomerate Eurico Ferrei...</td>\n",
       "      <td>Energy</td>\n",
       "      <td>telecommunications\\n</td>\n",
       "      <td>None</td>\n",
       "    </tr>\n",
       "  </tbody>\n",
       "</table>\n",
       "</div>"
      ],
      "text/plain": [
       "  Landgrabbed               Landgrabber      Base Hectares  \\\n",
       "0     Algeria                  Al Qudra       UAE  31000.0   \n",
       "1      Angola  CAMC Engineering Co. Ltd     China   1500.0   \n",
       "2      Angola                       ENI     Italy  12000.0   \n",
       "3      Angola                  AfriAgro  Portugal   5000.0   \n",
       "4      Angola           Eurico Ferreira  Portugal  30000.0   \n",
       "\n",
       "                  Production Projected investment Status of deal  \\\n",
       "0  Milk, olive oil, potatoes                  NaN           Done   \n",
       "1                       Rice        US$77 million          Done    \n",
       "2                   Oil palm                  NaN     In process   \n",
       "3                   Oil palm     US$30-35 million           Done   \n",
       "4                 Sugar cane       US$200 million           Done   \n",
       "\n",
       "                                             Summary       sector1  \\\n",
       "0  Al Qudra Holding is a joint-stock company esta...       Finance   \n",
       "1  CAMCE is a subsidiary of the China National Ma...  Construction   \n",
       "2  The project is a joint venture between Sonango...        Energy   \n",
       "3  AfriAgro is a subsidiary of the Portugal-based...       Finance   \n",
       "4  In 2008, Portuguese conglomerate Eurico Ferrei...        Energy   \n",
       "\n",
       "                 sector2 sector3  \n",
       "0            real estate    None  \n",
       "1                   None    None  \n",
       "2                   None    None  \n",
       "3            real estate    None  \n",
       "4   telecommunications\\n    None  "
      ]
     },
     "execution_count": 9,
     "metadata": {},
     "output_type": "execute_result"
    }
   ],
   "source": [
    "# we can also include the newly split columns in the dataframe itself\n",
    "df[['sector1', 'sector2', 'sector3']] = df['Sector'].str.split(',', expand = True)\n",
    "# and delete the original column to clean the set (and prevent duplicate values)\n",
    "df.drop('Sector', axis='columns', inplace=True)\n",
    "df.head()"
   ]
  },
  {
   "cell_type": "code",
   "execution_count": 10,
   "id": "eeb3fcd0",
   "metadata": {},
   "outputs": [
    {
     "data": {
      "text/plain": [
       "array(['Done', 'Done ', 'In process', 'Done (50-yr lease)', 'Suspended',\n",
       "       'Proposed', 'MoU signed (2009)', 'Done\\n', 'Suspended  ',\n",
       "       'Suspended (October 2011)'], dtype=object)"
      ]
     },
     "execution_count": 10,
     "metadata": {},
     "output_type": "execute_result"
    }
   ],
   "source": [
    "# By checking the unique values we actually find duplicated values in 'Status of deal'\n",
    "df['Status of deal'].unique()"
   ]
  },
  {
   "cell_type": "code",
   "execution_count": 11,
   "id": "ca60fbbb",
   "metadata": {},
   "outputs": [
    {
     "data": {
      "text/plain": [
       "array(['Done', 'In process', 'Done (50-yr lease)', 'Suspended',\n",
       "       'Proposed', 'MoU signed (2009)', 'Suspended (October 2011)'],\n",
       "      dtype=object)"
      ]
     },
     "execution_count": 11,
     "metadata": {},
     "output_type": "execute_result"
    }
   ],
   "source": [
    "# among the string functions is strip() to remove all white spaces (and other 'invisible characters' )\n",
    "df['Status of deal'] = df['Status of deal'].str.strip()\n",
    "df['Status of deal'].unique()"
   ]
  },
  {
   "cell_type": "code",
   "execution_count": 12,
   "id": "c92d2651",
   "metadata": {},
   "outputs": [
    {
     "data": {
      "text/plain": [
       "False    416\n",
       "dtype: int64"
      ]
     },
     "execution_count": 12,
     "metadata": {},
     "output_type": "execute_result"
    }
   ],
   "source": [
    "# check for duplicate values\n",
    "df.duplicated().value_counts()"
   ]
  },
  {
   "cell_type": "code",
   "execution_count": 13,
   "id": "32a29a51",
   "metadata": {},
   "outputs": [
    {
     "data": {
      "text/plain": [
       "array([nan, 'US$77 million', 'US$30-35 million', 'US$200 million',\n",
       "       'US$1,500 million', 'US$83 million', 'US$40 million',\n",
       "       'US$415 million', 'US$6.4 million', 'US$27 million',\n",
       "       'US$79 million', 'US$400 million', 'US$1,876 million',\n",
       "       'US$21 million', 'US$336 million', 'US$136 million',\n",
       "       'US$456 million', 'US$375 million', 'US$16.7 million',\n",
       "       'US$5 million', 'US$879 million', 'US$569 million',\n",
       "       'US$80 million', 'US$1,240 million', 'US$73 million',\n",
       "       'US$43 million', 'US$600 million', 'US$23 million',\n",
       "       'US$120 million', 'US$18,400 million', 'US$6.2 million',\n",
       "       'US$300 million', 'US$7 million', 'US$55 million',\n",
       "       'US$350 million', 'US$100 million', 'US$8/ha/yr (lease)',\n",
       "       'US$4/ha/yr (lease)',\n",
       "       'US$1.2/ha/yr (after first 7 years) in Gambela and US$8/ha/yr (after first 6 years) in Bako',\n",
       "       'US$4 million (lease cost for 25,000 ha)', 'US$10 million',\n",
       "       'US$18 million', 'US$2,500 million', 'US$250 million',\n",
       "       'US$328 million', 'US$2 billion', 'US$50 million',\n",
       "       'US$166 million', 'US$64 million', 'US$30 million',\n",
       "       'US$3.1 billion', 'US$1.6 billion', 'US$41 million',\n",
       "       'US$320 million', 'US$33 million', 'US$35 million',\n",
       "       'US$7.7 million', 'US$20 million', 'US$42 million',\n",
       "       'US$111 million', 'US$53.2 million', 'US$4.8 million',\n",
       "       'US$16.3 million', 'US$15 million', 'US$34.1 million',\n",
       "       'US$57,600 (US$0.80/ha)', 'US$254 million',\n",
       "       'US$205 million (half of fund)', 'US$39 million', 'US$75 million',\n",
       "       'US$6.5 million', 'US$204 million', 'US$1.3 billion',\n",
       "       'US$65 million', 'US$788 million', 'US$125,000/yr (land lease)',\n",
       "       'US$160 million', 'US$45.3 million', 'US$5.49 million',\n",
       "       'US$500 million', 'US$12.5 million', 'US$251 million',\n",
       "       'US$85 million'], dtype=object)"
      ]
     },
     "execution_count": 13,
     "metadata": {},
     "output_type": "execute_result"
    }
   ],
   "source": [
    "# try to 'fix' US$77 million in the Projected Investment column\n",
    "# to be continued...\n",
    "df['Projected investment'] = df['Projected investment'].str.strip()\n",
    "df['Projected investment'].unique()"
   ]
  },
  {
   "cell_type": "code",
   "execution_count": 14,
   "id": "2cb19467",
   "metadata": {},
   "outputs": [],
   "source": [
    "import re\n",
    "import fnmatch\n",
    "\n",
    "\n",
    "df['Projected investment'] = df['Projected investment'].str.replace('US$',\"\", regex=False)\n",
    "df['Projected investment'] = df['Projected investment'].str.replace(\"30-35\",\"33\", regex=False)\n",
    "df['Projected investment'] = df['Projected investment'].str.replace(' (lease)',\"\", regex=False)\n"
   ]
  },
  {
   "cell_type": "markdown",
   "id": "f13a7f7b",
   "metadata": {},
   "source": [
    "### We remove the words like US dollar , the (lease) and the not certain value of 30-35"
   ]
  },
  {
   "cell_type": "code",
   "execution_count": 15,
   "id": "0ecf912f",
   "metadata": {},
   "outputs": [
    {
     "data": {
      "text/plain": [
       "array(['nan', 77000000.0, 33000000.0, 200000000.0, 1500000000.0,\n",
       "       83000000.0, 40000000.0, 415000000.0, 6400000.0, 27000000.0,\n",
       "       79000000.0, 400000000.0, 1876000000.0, 21000000.0, 336000000.0,\n",
       "       136000000.0, 456000000.0, 375000000.0, 16700000.0, 5000000.0,\n",
       "       879000000.0, 569000000.0, 80000000.0, 1240000000.0, 73000000.0,\n",
       "       43000000.0, 600000000.0, 23000000.0, 120000000.0, 18400000000.0,\n",
       "       6200000.0, 300000000.0, 7000000.0, 55000000.0, 350000000.0,\n",
       "       100000000.0, '8/ha/yr', '4/ha/yr',\n",
       "       '1.2/ha/yr (after first 7 years) in Gambela and 8/ha/yr (after first 6 years) in Bako',\n",
       "       4000000.0, 10000000.0, 18000000.0, 2500000000.0, 250000000.0,\n",
       "       328000000.0, 2000000000.0, 50000000.0, 166000000.0, 64000000.0,\n",
       "       30000000.0, 3100000000.0, 1600000000.0, 41000000.0, 320000000.0,\n",
       "       35000000.0, 7700000.0, 20000000.0, 42000000.0, 111000000.0,\n",
       "       53200000.0, 4800000.0, 16300000.0, 15000000.0, 34100000.0,\n",
       "       '57600 (0.80/ha)', 254000000.0, 205000000.0, 39000000.0,\n",
       "       75000000.0, 6500000.0, 204000000.0, 1300000000.0, 65000000.0,\n",
       "       788000000.0, '125000/yr (land lease)', 160000000.0, 45300000.0,\n",
       "       5490000.0, 500000000.0, 12500000.0, 251000000.0, 85000000.0],\n",
       "      dtype=object)"
      ]
     },
     "execution_count": 15,
     "metadata": {},
     "output_type": "execute_result"
    }
   ],
   "source": [
    "def convert(x):\n",
    "    x = str(x)\n",
    "    x = x.replace(\",\",\"\")\n",
    "    if \"million\" in x:\n",
    "        head, sep, tail = x.partition('million')\n",
    "        return float(head)*1000000\n",
    "    elif \"billion\" in x:\n",
    "        head, sep, tail = x.partition('billion')\n",
    "        return float(head)*1000000000\n",
    "    else:\n",
    "        return x\n",
    "    \n",
    "df = df.rename(columns={'Projected investment': 'Projected_Investment'})\n",
    "\n",
    "df.Projected_Investment = df.Projected_Investment.apply(convert)\n",
    "\n",
    "df['Projected_Investment'].unique()\n",
    "\n"
   ]
  },
  {
   "cell_type": "markdown",
   "id": "5639612b",
   "metadata": {},
   "source": [
    "### We have \"fixed\" the US 77 million problem but other more compplicated problems like 8/ha/yr.(lease) can either drop from the data or figure out another possible replacement."
   ]
  },
  {
   "cell_type": "code",
   "execution_count": null,
   "id": "3b8bc62b",
   "metadata": {},
   "outputs": [],
   "source": []
  }
 ],
 "metadata": {
  "kernelspec": {
   "display_name": "Python 3 (ipykernel)",
   "language": "python",
   "name": "python3"
  },
  "language_info": {
   "codemirror_mode": {
    "name": "ipython",
    "version": 3
   },
   "file_extension": ".py",
   "mimetype": "text/x-python",
   "name": "python",
   "nbconvert_exporter": "python",
   "pygments_lexer": "ipython3",
   "version": "3.9.7"
  }
 },
 "nbformat": 4,
 "nbformat_minor": 5
}
