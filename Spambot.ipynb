{
 "cells": [
  {
   "cell_type": "markdown",
   "id": "88ed6f23",
   "metadata": {},
   "source": [
    "# Spambot"
   ]
  },
  {
   "cell_type": "code",
   "execution_count": 1,
   "id": "c7962b57",
   "metadata": {},
   "outputs": [],
   "source": [
    "import smtplib"
   ]
  },
  {
   "cell_type": "code",
   "execution_count": 2,
   "id": "848aee2e",
   "metadata": {},
   "outputs": [],
   "source": [
    "email = 'hristo.hristov2021@gmail.com'\n",
    "passord = 'dlvdefsmgvzhxrqs'"
   ]
  },
  {
   "cell_type": "code",
   "execution_count": 17,
   "id": "eb59c6f1",
   "metadata": {},
   "outputs": [],
   "source": [
    "with smtplib.SMTP('smtp.gmail.com',587) as smtp:\n",
    "    smtp.ehlo()\n",
    "    smtp.starttls()\n",
    "    smtp.ehlo()\n",
    "    \n",
    "    smtp.login(email,passord)\n",
    "    \n",
    "    subject = 'WARNING!'\n",
    "    body = f'Device S is going over the allowed limits!'\n",
    "    \n",
    "    msg = f'Subject:{subject}\\n\\n{body}'\n",
    "    \n",
    "    smtp.sendmail(email,'hristo2001@gmail.com',msg)"
   ]
  },
  {
   "cell_type": "markdown",
   "id": "62709224",
   "metadata": {},
   "source": [
    "# Beautiful email sender"
   ]
  },
  {
   "cell_type": "code",
   "execution_count": 66,
   "id": "1d9e1344",
   "metadata": {},
   "outputs": [],
   "source": [
    "from string import Template"
   ]
  },
  {
   "cell_type": "code",
   "execution_count": 80,
   "id": "7e041040",
   "metadata": {},
   "outputs": [],
   "source": [
    "html =  '''<!DOCTYPE html><html><head>    <meta http-equiv=\"Content-Type\" content=\"text/html; charset=utf-8\">    <title>WARNING</title>    <style>        body {margin:0; padding:0; -webkit-text-size-adjust:none; -ms-text-size-adjust:none;} img{line-height:100%; outline:none; text-decoration:none; -ms-interpolation-mode: bicubic;} a img{border: none;} #backgroundTable {margin:0; padding:0; width:100% !important; } a, a:link{color:#2A5DB0; text-decoration: underline;} table td {border-collapse:collapse;} span {color: inherit; border-bottom: none;} span:hover { background-color: transparent; }    </style>    <style> .scalable-image img{max-width:100% !important;height:auto !important}.button a{transition:background-color .25s, border-color .25s}.button a:hover{background-color:#e1e1e1 !important;border-color:#0976a5 !important}@media only screen and (max-width: 400px){.preheader{font-size:12px !important;text-align:center !important}.header--white{text-align:center}.header--white .header__logo{display:block;margin:0 auto;width:118px !important;height:auto !important}.header--left .header__logo{display:block;width:118px !important;height:auto !important}}@media screen and (-webkit-device-pixel-ratio), screen and (-moz-device-pixel-ratio){.sub-story__image,.sub-story__content{display:block !important}.sub-story__image{float:left !important;width:200px}.sub-story__content{margin-top:30px !important;margin-left:200px !important}}@media only screen and (max-width: 550px){.sub-story__inner{padding-left:30px !important}.sub-story__image,.sub-story__content{margin:0 auto !important;float:none !important;text-align:center}.sub-story .button{padding-left:0 !important}}@media only screen and (max-width: 400px){.featured-story--top table,.featured-story--top td{text-align:left}.featured-story--top__heading td,.sub-story__heading td{font-size:18px !important}.featured-story--bottom:nth-child(2) .featured-story--bottom__inner{padding-top:10px !important}.featured-story--bottom__inner{padding-top:20px !important}.featured-story--bottom__heading td{font-size:28px !important;line-height:32px !important}.featured-story__copy td,.sub-story__copy td{font-size:14px !important;line-height:20px !important}.sub-story table,.sub-story td{text-align:center}.sub-story__hero img{width:100px !important;margin:0 auto}}@media only screen and (max-width: 400px){.footer td{font-size:12px !important;line-height:16px !important}}     @media screen and (max-width:600px) {    table[class=\"columns\"] {        margin: 0 auto !important;float:none !important;padding:10px 0 !important;    }    td[class=\"left\"] {     padding: 0px 0 !important;    </style></head><body style=\"background: #e1e1e1;font-family:Arial, Helvetica, sans-serif; font-size:1em;\"><style type=\"text/css\">div.preheader { display: none !important; } </style><div class=\"preheader\" style=\"font-size: 1px; display: none !important;\">Limits going to exeed</div>    <table id=\"backgroundTable\" width=\"100%\" cellspacing=\"0\" cellpadding=\"0\" border=\"0\" style=\"background:#e1e1e1;\">        <tr>            <td class=\"body\" align=\"center\" valign=\"top\" style=\"background:#e1e1e1;\" width=\"100%\">                <table cellpadding=\"0\" cellspacing=\"0\">                    <tr>                        <td width=\"640\">                            </td>                    </tr>                    <tr>                        <td class=\"main\" width=\"640\" align=\"center\" style=\"padding: 0 10px;\">                            <table style=\"min-width: 100%; \" class=\"stylingblock-content-wrapper\" width=\"100%\" cellspacing=\"0\" cellpadding=\"0\"><tr><td class=\"stylingblock-content-wrapper camarker-inner\"><table cellspacing=\"0\" cellpadding=\"0\"> <tr>  <td width=\"640\" align=\"left\">   <table width=\"100%\" cellspacing=\"0\" cellpadding=\"0\">    <tr>     <td class=\"header header--left\" style=\"padding: 20px 10px;\" align=\"left\">     </td>    </tr>   </table>  </td> </tr></table></td></tr></table><table style=\"min-width: 100%; \" class=\"stylingblock-content-wrapper\" width=\"100%\" cellspacing=\"0\" cellpadding=\"0\"><tr><td class=\"stylingblock-content-wrapper camarker-inner\"><table class=\"featured-story featured-story--top\" cellspacing=\"0\" cellpadding=\"0\"> <tr>  <td style=\"padding-bottom: 20px;\">   <table cellspacing=\"0\" cellpadding=\"0\">    <tr>     <td class=\"featured-story__inner\" style=\"background: #fff;\">      <table cellspacing=\"0\" cellpadding=\"0\">       <tr>        <td class=\"scalable-image\" width=\"640\" align=\"center\">        </td>       </tr>       <tr>        <td class=\"featured-story__content-inner\" style=\"padding: 32px 30px 45px;\">         <table cellspacing=\"0\" cellpadding=\"0\">          <tr>           <td class=\"featured-story__heading featured-story--top__heading\" style=\"background: #fff;\" width=\"640\" align=\"left\">            <table cellspacing=\"0\" cellpadding=\"0\">             <tr>              <td style=\"font-family: Geneva, Tahoma, Verdana, sans-serif; font-size: 22px; color: #464646;\" width=\"400\" align=\"left\">               <a href=\"https://sl.automatia.nl/\"  style=\"text-decoration: none; color: #464646;\">Device $DevName is going to go past it's limit!</a>              </td>             </tr>            </table>           </td>          </tr>          <tr>           <td class=\"featured-story__copy\" style=\"background: #fff;\" width=\"640\" align=\"center\">            <table cellspacing=\"0\" cellpadding=\"0\">             <tr>              <td style=\"font-family: Geneva, Tahoma, Verdana, sans-serif; font-size: 16px; line-height: 22px; color: #555555; padding-top: 16px;\" align=\"left\">                Our automated system for predictive maintance has been triggered. Please immediately contact a serviceman and perform a checkup. In case further information is needed please visit our website or contact our team. Regards, Pizza Inc.              </td>             </tr>            </table>           </td>          </tr>          <tr>                 <td class=\"button\" style=\"font-family: Geneva, Tahoma, Verdana, sans-serif; font-size: 16px; padding-top: 26px;\" width=\"640\" align=\"left\">                  <a href=\"https://sl.automatia.nl/\"  style=\"background: #0c99d5; color: #fff; text-decoration: none; border: 14px solid #0c99d5; border-left-width: 50px; border-right-width: 50px; text-transform: uppercase; display: inline-block;\">                   Find out more                  </a>           </td>                </tr>         </table>        </td>       </tr>      </table>     </td>    </tr>   </table>  </td> </tr></table></td></tr></table></td>                    </tr>                    <tr>                     <td class=\"footer\" width=\"640\" align=\"center\" style=\"padding-top: 10px;\">                      <table cellspacing=\"0\" cellpadding=\"0\">                       <tr>                        <td align=\"center\" style=\"font-family: Geneva, Tahoma, Verdana, sans-serif; font-size: 14px; line-height: 18px; color: #738597; padding: 0 20px 40px;\">                                      <br>      <br><strong>Thanks for reading!</strong><br> You're receiving this email because you are subscibed to our alarm system. If you do not wish to receive this email any longer please  <a href=\"#\"  style=\"color: #0c99d5;\">unsubscribe.</a><br><br>You can also <a href=\"#\"  style=\"color: #0c99d5;\">update your email preferences</a> at any time.<br><br>                         <br><a href=\"https://sl.automatia.nl/\"  target=\"_blank\"><img src=\"https://i.imgur.com/XNhvwDY.png\" alt=\"Made by Pizza Inc.\" style=\"display: block; border: 0;\" width=\"300\"></a>      <br><strong><a href=\"https://sl.automatia.nl/\" style=\"color: #0c99d5;\"  target=\"_blank\">Donate to Pizza Inc.</a></strong>&nbsp;&nbsp;|&nbsp;&nbsp;\t<br><br>                         331 E. Evelyn Avenue Mountain View CA 94041                          <br>                         <a href=\"https://sl.automatia.nl/\"  style=\"color: #0c99d5;\">Legal</a> • <a href=\"https://sl.automatia.nl/\"  style=\"color: #0c99d5;\">Privacy</a>                        </td>                       </tr>                      </table>                     </td>                    </tr>                </table>            </td>        </tr>    </table>    <!-- Exact Target tracking code -->     </custom></body></html>'''"
   ]
  },
  {
   "cell_type": "code",
   "execution_count": 81,
   "id": "690a68b8",
   "metadata": {},
   "outputs": [],
   "source": [
    "Dev='S'"
   ]
  },
  {
   "cell_type": "code",
   "execution_count": 82,
   "id": "be5da928",
   "metadata": {},
   "outputs": [],
   "source": [
    "html = Template(html).safe_substitute(DevName=Dev)"
   ]
  },
  {
   "cell_type": "code",
   "execution_count": 85,
   "id": "6707b094",
   "metadata": {},
   "outputs": [],
   "source": [
    "emails = ['shanessa.m7493@gmail.com','hristo2001@gmail.com']"
   ]
  },
  {
   "cell_type": "code",
   "execution_count": 86,
   "id": "236ba4b8",
   "metadata": {},
   "outputs": [],
   "source": [
    "from email.mime.multipart import MIMEMultipart\n",
    "from email.mime.text import MIMEText\n",
    "from email.mime.image import MIMEImage\n",
    "\n",
    "\n",
    "# Encapsulate the plain and HTML versions of the message body in an\n",
    "# 'alternative' part, so message agents can decide which they want to display.\n",
    "msgAlternative = MIMEMultipart('alternative')\n",
    "\n",
    "msgText = MIMEText(html, 'html')\n",
    "msgAlternative['Subject'] = 'WARNING'\n",
    "msgAlternative.attach(msgText)\n",
    "\n",
    "# Send the email (this example assumes SMTP authentication is required)\n",
    "with smtplib.SMTP('smtp.gmail.com',587) as smtp:\n",
    "    smtp.ehlo()\n",
    "    smtp.starttls()\n",
    "    smtp.ehlo()\n",
    "    \n",
    "    smtp.login(email,passord)\n",
    "    \n",
    "    for x in emails:\n",
    "        smtp.sendmail(email,x,msgAlternative.as_string())"
   ]
  },
  {
   "cell_type": "code",
   "execution_count": null,
   "id": "e64d619f",
   "metadata": {},
   "outputs": [],
   "source": []
  }
 ],
 "metadata": {
  "kernelspec": {
   "display_name": "Python 3 (ipykernel)",
   "language": "python",
   "name": "python3"
  },
  "language_info": {
   "codemirror_mode": {
    "name": "ipython",
    "version": 3
   },
   "file_extension": ".py",
   "mimetype": "text/x-python",
   "name": "python",
   "nbconvert_exporter": "python",
   "pygments_lexer": "ipython3",
   "version": "3.9.7"
  },
  "toc": {
   "base_numbering": 1,
   "nav_menu": {},
   "number_sections": true,
   "sideBar": true,
   "skip_h1_title": false,
   "title_cell": "Table of Contents",
   "title_sidebar": "Contents",
   "toc_cell": false,
   "toc_position": {},
   "toc_section_display": true,
   "toc_window_display": false
  }
 },
 "nbformat": 4,
 "nbformat_minor": 5
}
